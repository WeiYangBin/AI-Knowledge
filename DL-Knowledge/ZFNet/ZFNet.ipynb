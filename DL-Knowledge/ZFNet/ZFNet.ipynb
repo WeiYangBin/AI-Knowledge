{
 "cells": [
  {
   "cell_type": "markdown",
   "metadata": {},
   "source": [
    "## Pytroch Version"
   ]
  },
  {
   "cell_type": "code",
   "execution_count": 1,
   "metadata": {},
   "outputs": [],
   "source": [
    "import torch.nn as nn"
   ]
  },
  {
   "cell_type": "code",
   "execution_count": 2,
   "metadata": {},
   "outputs": [],
   "source": [
    "class ZFNet(nn.Module):\n",
    "    \n",
    "    def __init__(self):\n",
    "        super(ZFNet, self).__init__()\n",
    "        self.features = nn.Sequential(\n",
    "                        nn.Conv2d(3, 96, 7, 2, 3),\n",
    "                        nn.ReLU(),\n",
    "                        nn.MaxPool2d(3, 2, 1),\n",
    "                        nn.LocalResponseNorm(2),\n",
    "                        nn.Conv2d(96, 256, 5, 2, 2),\n",
    "                        nn.ReLU(),\n",
    "                        nn.MaxPool2d(3, 2, 1),\n",
    "                        nn.LocalResponseNorm(2),\n",
    "                        nn.Conv2d(256, 384, 3, 1, 1),\n",
    "                        nn.ReLU(),\n",
    "                        nn.Conv2d(384, 384, 3, 1, 1),\n",
    "                        nn.ReLU(),\n",
    "                        nn.Conv2d(384, 256, 3, 1, 1),\n",
    "                        nn.ReLU(),\n",
    "                        nn.MaxPool2d(3, 2)\n",
    "        )\n",
    "        self.classifier = nn.Sequential(\n",
    "                        nn.Linear(6 * 6 * 256, 4096),\n",
    "                        nn.Dropout(0.5),\n",
    "                        nn.Linear(4096, 4096),\n",
    "                        nn.Dropout(0.5),\n",
    "                        nn.Linear(4096, 1000)\n",
    "        )\n",
    "        \n",
    "    def forward(self, x):\n",
    "        x = self.features(x)\n",
    "        x = x.view(-1, 6 * 6 * 256)\n",
    "        x = self.classifier(x)\n",
    "        return x\n",
    "\n"
   ]
  },
  {
   "cell_type": "code",
   "execution_count": 3,
   "metadata": {},
   "outputs": [
    {
     "data": {
      "text/plain": [
       "ZFNet(\n",
       "  (features): Sequential(\n",
       "    (0): Conv2d(3, 96, kernel_size=(7, 7), stride=(2, 2), padding=(3, 3))\n",
       "    (1): ReLU()\n",
       "    (2): MaxPool2d(kernel_size=3, stride=2, padding=1, dilation=1, ceil_mode=False)\n",
       "    (3): LocalResponseNorm(2, alpha=0.0001, beta=0.75, k=1.0)\n",
       "    (4): Conv2d(96, 256, kernel_size=(5, 5), stride=(2, 2), padding=(2, 2))\n",
       "    (5): ReLU()\n",
       "    (6): MaxPool2d(kernel_size=3, stride=2, padding=1, dilation=1, ceil_mode=False)\n",
       "    (7): LocalResponseNorm(2, alpha=0.0001, beta=0.75, k=1.0)\n",
       "    (8): Conv2d(256, 384, kernel_size=(3, 3), stride=(1, 1), padding=(1, 1))\n",
       "    (9): ReLU()\n",
       "    (10): Conv2d(384, 384, kernel_size=(3, 3), stride=(1, 1), padding=(1, 1))\n",
       "    (11): ReLU()\n",
       "    (12): Conv2d(384, 256, kernel_size=(3, 3), stride=(1, 1), padding=(1, 1))\n",
       "    (13): ReLU()\n",
       "    (14): MaxPool2d(kernel_size=3, stride=2, padding=0, dilation=1, ceil_mode=False)\n",
       "  )\n",
       "  (classifier): Sequential(\n",
       "    (0): Linear(in_features=9216, out_features=4096, bias=True)\n",
       "    (1): Dropout(p=0.5)\n",
       "    (2): Linear(in_features=4096, out_features=4096, bias=True)\n",
       "    (3): Dropout(p=0.5)\n",
       "    (4): Linear(in_features=4096, out_features=1000, bias=True)\n",
       "  )\n",
       ")"
      ]
     },
     "execution_count": 3,
     "metadata": {},
     "output_type": "execute_result"
    }
   ],
   "source": [
    "net = ZFNet()\n",
    "net"
   ]
  },
  {
   "cell_type": "markdown",
   "metadata": {},
   "source": [
    "## TensorFlow Version\n"
   ]
  },
  {
   "cell_type": "code",
   "execution_count": 4,
   "metadata": {},
   "outputs": [],
   "source": [
    "import tensorflow as tf"
   ]
  },
  {
   "cell_type": "code",
   "execution_count": 6,
   "metadata": {},
   "outputs": [
    {
     "name": "stdout",
     "output_type": "stream",
     "text": [
      "注意：ZFNet模型结构存在计算错误\n",
      "\n",
      "conv1: (?, 109, 109, 96)\n",
      "pool1: (?, 54, 54, 96)\n",
      "norm: (?, 54, 54, 96)\n",
      "conv2: (?, 25, 25, 256)\n",
      "pool2: (?, 12, 12, 256)\n",
      "norm2: (?, 12, 12, 256)\n",
      "conv3: (?, 12, 12, 384)\n",
      "conv4: (?, 12, 12, 384)\n",
      "conv5: (?, 12, 12, 256)\n",
      "pool3: (?, 5, 5, 256)\n",
      "fc6: (?, 4096)\n",
      "fc7: (?, 4096)\n",
      "output: (?, 1000)\n"
     ]
    }
   ],
   "source": [
    "x = tf.placeholder(tf.float32, [None, 224, 224, 3], name = 'Input')\n",
    "\n",
    "W_conv = {\n",
    "    'conv1': tf.Variable(tf.truncated_normal([7, 7, 3, 96])),\n",
    "    'conv2': tf.Variable(tf.truncated_normal([5, 5, 96, 256])),\n",
    "    'conv3': tf.Variable(tf.truncated_normal([3, 3, 256, 384])),\n",
    "    'conv4': tf.Variable(tf.truncated_normal([3, 3, 384, 384])),\n",
    "    'conv5': tf.Variable(tf.truncated_normal([3, 3, 384, 256])),\n",
    "    'fc6': tf.Variable(tf.truncated_normal([9216, 4096])),\n",
    "    'fc7': tf.Variable(tf.truncated_normal([4096, 4096])),\n",
    "    'fc8': tf.Variable(tf.truncated_normal([4096, 1000]))\n",
    "}\n",
    "\n",
    "b_conv = {\n",
    "    'conv1': tf.Variable(tf.constant(0.0, shape=[96])),\n",
    "    'conv2': tf.Variable(tf.constant(0.0, shape=[256])),\n",
    "    'conv3': tf.Variable(tf.constant(0.0, shape=[384])),\n",
    "    'conv4': tf.Variable(tf.constant(0.0, shape=[384])),\n",
    "    'conv5': tf.Variable(tf.constant(0.0, shape=[256])),\n",
    "    'fc6': tf.Variable(tf.constant(0.1, shape=[4096])),\n",
    "    'fc7': tf.Variable(tf.constant(0.1, shape=[4096])),\n",
    "    'fc8': tf.Variable(tf.constant(0.1, shape=[1000]))\n",
    "    \n",
    "}\n",
    "\n",
    "print('注意：ZFNet模型结构存在计算错误')\n",
    "print()\n",
    "conv1 = tf.nn.conv2d(x, W_conv['conv1'], strides=[1, 2, 2, 1], padding='VALID')\n",
    "conv1 = tf.nn.bias_add(conv1, b_conv['conv1'])\n",
    "conv1 = tf.nn.relu(conv1)\n",
    "print('conv1:', conv1.shape)\n",
    "pool1 = tf.nn.max_pool(conv1, ksize=[1, 3, 3, 1], strides=[1, 2, 2, 1], padding='VALID')\n",
    "print('pool1:', pool1.shape)\n",
    "norm1 = tf.nn.lrn(pool1)\n",
    "print('norm:', norm1.shape)\n",
    "\n",
    "conv2 = tf.nn.conv2d(norm1, W_conv['conv2'], strides=[1, 2, 2, 1], padding='VALID')\n",
    "conv2 = tf.nn.bias_add(conv2, b_conv['conv2'])\n",
    "conv2 = tf.nn.relu(conv2)\n",
    "print('conv2:', conv2.shape)\n",
    "pool2 = tf.nn.max_pool(conv2, ksize=[1, 3, 3, 1], strides=[1, 2, 2, 1], padding='VALID')\n",
    "print('pool2:', pool2.shape)\n",
    "norm2 = tf.nn.lrn(pool2)\n",
    "print('norm2:', norm2.shape)\n",
    "\n",
    "conv3 = tf.nn.conv2d(norm2, W_conv['conv3'], strides=[1, 1, 1, 1], padding='SAME')\n",
    "conv3 = tf.nn.bias_add(conv3, b_conv['conv3'])\n",
    "conv3 = tf.nn.relu(conv3)\n",
    "print('conv3:', conv3.shape)\n",
    "\n",
    "conv4 = tf.nn.conv2d(conv3, W_conv['conv4'], strides=[1, 1, 1, 1], padding='SAME')\n",
    "conv4 = tf.nn.bias_add(conv4, b_conv['conv4'])\n",
    "conv4 = tf.nn.relu(conv4)\n",
    "print('conv4:', conv4.shape)\n",
    "\n",
    "conv5 = tf.nn.conv2d(conv4, W_conv['conv5'], strides=[1, 1, 1, 1], padding='SAME')\n",
    "conv5 = tf.nn.bias_add(conv5, b_conv['conv5'])\n",
    "conv5 = tf.nn.relu(conv5)\n",
    "print('conv5:', conv5.shape)\n",
    "pool3 = tf.nn.max_pool(conv5, ksize=[1, 3, 3, 1], strides=[1, 2, 2, 1], padding='VALID')\n",
    "print('pool3:', pool3.shape)\n",
    "\n",
    "reshape = tf.reshape(pool3, [-1, 6 * 6 * 256])\n",
    "fc6 = tf.add(tf.matmul(reshape, W_conv['fc6']), b_conv['fc6'])\n",
    "fc6 = tf.nn.relu(fc6)\n",
    "fc6 = tf.nn.dropout(fc6, 0.5)\n",
    "print('fc6:', fc6.shape)\n",
    "\n",
    "fc7 = tf.add(tf.matmul(fc6, W_conv['fc7']), b_conv['fc7'])\n",
    "fc7 = tf.nn.relu(fc7)\n",
    "fc7 = tf.nn.dropout(fc7, 0.5)\n",
    "print('fc7:', fc7.shape)\n",
    "\n",
    "output = tf.nn.softmax(tf.add(tf.matmul(fc7, W_conv['fc8']), b_conv['fc8']))\n",
    "print('output:', output.shape)\n",
    "\n"
   ]
  },
  {
   "cell_type": "code",
   "execution_count": null,
   "metadata": {},
   "outputs": [],
   "source": []
  }
 ],
 "metadata": {
  "kernelspec": {
   "display_name": "Python 3",
   "language": "python",
   "name": "python3"
  },
  "language_info": {
   "codemirror_mode": {
    "name": "ipython",
    "version": 3
   },
   "file_extension": ".py",
   "mimetype": "text/x-python",
   "name": "python",
   "nbconvert_exporter": "python",
   "pygments_lexer": "ipython3",
   "version": "3.6.8"
  }
 },
 "nbformat": 4,
 "nbformat_minor": 2
}
