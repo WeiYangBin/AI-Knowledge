{
 "cells": [
  {
   "cell_type": "markdown",
   "metadata": {},
   "source": [
    "## Pytorch Version"
   ]
  },
  {
   "cell_type": "code",
   "execution_count": 1,
   "metadata": {},
   "outputs": [],
   "source": [
    "import torch.nn as nn"
   ]
  },
  {
   "cell_type": "code",
   "execution_count": 2,
   "metadata": {},
   "outputs": [],
   "source": [
    "class LeNet(nn.Module):\n",
    "    \n",
    "    def __init__(self):\n",
    "        super(LeNet, self).__init__()\n",
    "        self.features = nn.Sequential(\n",
    "                     nn.Conv2d(1, 6, 5),\n",
    "                    nn.AvgPool2d(2, 1),\n",
    "                    nn.Conv2d(6, 16, 5),\n",
    "                    nn.AvgPool2d(2, 1)\n",
    "        )\n",
    "        self.classifier = nn.Sequential(\n",
    "                    nn.Linear(16 * 5 * 5, 120),\n",
    "                    nn.Linear(120, 84),\n",
    "                    nn.Linear(84, 10)\n",
    "        )\n",
    "    def foward(self, x):\n",
    "        x = self.features(x)\n",
    "        x = x.view(-1, 16 * 5 * 5)\n",
    "        x = self.classifier(x)\n",
    "        return x"
   ]
  },
  {
   "cell_type": "code",
   "execution_count": 3,
   "metadata": {},
   "outputs": [],
   "source": [
    "net = LeNet()"
   ]
  },
  {
   "cell_type": "code",
   "execution_count": 4,
   "metadata": {},
   "outputs": [
    {
     "data": {
      "text/plain": [
       "LeNet(\n",
       "  (features): Sequential(\n",
       "    (0): Conv2d(1, 6, kernel_size=(5, 5), stride=(1, 1))\n",
       "    (1): AvgPool2d(kernel_size=2, stride=1, padding=0)\n",
       "    (2): Conv2d(6, 16, kernel_size=(5, 5), stride=(1, 1))\n",
       "    (3): AvgPool2d(kernel_size=2, stride=1, padding=0)\n",
       "  )\n",
       "  (classifier): Sequential(\n",
       "    (0): Linear(in_features=400, out_features=120, bias=True)\n",
       "    (1): Linear(in_features=120, out_features=84, bias=True)\n",
       "    (2): Linear(in_features=84, out_features=10, bias=True)\n",
       "  )\n",
       ")"
      ]
     },
     "execution_count": 4,
     "metadata": {},
     "output_type": "execute_result"
    }
   ],
   "source": [
    "net"
   ]
  },
  {
   "cell_type": "markdown",
   "metadata": {},
   "source": [
    "## TensorFlow Version"
   ]
  },
  {
   "cell_type": "code",
   "execution_count": 5,
   "metadata": {},
   "outputs": [],
   "source": [
    "import tensorflow as tf"
   ]
  },
  {
   "cell_type": "code",
   "execution_count": 6,
   "metadata": {},
   "outputs": [],
   "source": [
    "x = tf.placeholder(tf.float32,[None,32,32,1],name='x')\n",
    "\n",
    "def LeNet(x):    \n",
    "\n",
    "    conv1_w = tf.Variable(tf.truncated_normal(shape = [5,5,1,6]))\n",
    "    conv1_b = tf.Variable(tf.zeros(6))\n",
    "    conv1 = tf.nn.conv2d(x,conv1_w, strides = [1,1,1,1], padding = 'VALID') + conv1_b \n",
    "    print('C1 :  conv1:', conv1.shape)\n",
    "    \n",
    "    pool_1 = tf.nn.avg_pool(conv1,ksize = [1,2,2,1], strides = [1,2,2,1], padding = 'VALID')\n",
    "    print('S2 :  pool_1', pool_1.shape)\n",
    "    \n",
    "    conv2_w = tf.Variable(tf.truncated_normal(shape = [5,5,6,16]))\n",
    "    conv2_b = tf.Variable(tf.zeros(16))\n",
    "    conv2 = tf.nn.conv2d(pool_1, conv2_w, strides = [1,1,1,1], padding = 'VALID') + conv2_b\n",
    "    print('C3 :  conv2:', conv2.shape)\n",
    "\n",
    "    pool_2 = tf.nn.avg_pool(conv2, ksize = [1,2,2,1], strides = [1,2,2,1], padding = 'VALID') \n",
    "    print('S4 :  pool_2:', pool_2.shape)\n",
    "    \n",
    "    fc1 = tf.contrib.layers.flatten(pool_2)\n",
    "    \n",
    "    fc1_w = tf.Variable(tf.truncated_normal(shape = (400,120)))\n",
    "    fc1_b = tf.Variable(tf.zeros(120))\n",
    "    fc1 = tf.matmul(fc1,fc1_w) + fc1_b\n",
    "    print('C5 :  fc1:',fc1.shape)\n",
    "    \n",
    "    fc2_w = tf.Variable(tf.truncated_normal(shape = (120,84)))\n",
    "    fc2_b = tf.Variable(tf.zeros(84))\n",
    "    fc2 = tf.matmul(fc1,fc2_w) + fc2_b\n",
    "    print('F6 :  fc2:',fc2.shape)\n",
    "    \n",
    "    fc3_w = tf.Variable(tf.truncated_normal(shape = (84,10)))\n",
    "    fc3_b = tf.Variable(tf.zeros(10))\n",
    "    logits = tf.matmul(fc2, fc3_w) + fc3_b\n",
    "    print('Output :  logits:',logits.shape)\n",
    "    return logits"
   ]
  },
  {
   "cell_type": "code",
   "execution_count": 8,
   "metadata": {},
   "outputs": [
    {
     "name": "stdout",
     "output_type": "stream",
     "text": [
      "C1 :  conv1: (?, 28, 28, 6)\n",
      "S2 :  pool_1 (?, 14, 14, 6)\n",
      "C3 :  conv2: (?, 10, 10, 16)\n",
      "S4 :  pool_2: (?, 5, 5, 16)\n",
      "C5 :  fc1: (?, 120)\n",
      "F6 :  fc2: (?, 84)\n",
      "Output :  logits: (?, 10)\n"
     ]
    },
    {
     "data": {
      "text/plain": [
       "<tf.Tensor 'add_9:0' shape=(?, 10) dtype=float32>"
      ]
     },
     "execution_count": 8,
     "metadata": {},
     "output_type": "execute_result"
    }
   ],
   "source": [
    "LeNet(x)"
   ]
  },
  {
   "cell_type": "code",
   "execution_count": null,
   "metadata": {},
   "outputs": [],
   "source": []
  }
 ],
 "metadata": {
  "kernelspec": {
   "display_name": "Python 3",
   "language": "python",
   "name": "python3"
  },
  "language_info": {
   "codemirror_mode": {
    "name": "ipython",
    "version": 3
   },
   "file_extension": ".py",
   "mimetype": "text/x-python",
   "name": "python",
   "nbconvert_exporter": "python",
   "pygments_lexer": "ipython3",
   "version": "3.6.8"
  }
 },
 "nbformat": 4,
 "nbformat_minor": 2
}
